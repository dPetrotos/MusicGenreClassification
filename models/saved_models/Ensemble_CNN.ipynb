{
 "cells": [
  {
   "cell_type": "code",
   "execution_count": 1,
   "metadata": {
    "collapsed": true,
    "pycharm": {
     "name": "#%%\n"
    }
   },
   "outputs": [
    {
     "name": "stdout",
     "output_type": "stream",
     "text": [
      "[PhysicalDevice(name='/physical_device:GPU:0', device_type='GPU')]\n"
     ]
    }
   ],
   "source": [
    "import math\n",
    "import json\n",
    "\n",
    "import keras\n",
    "import librosa\n",
    "import os\n",
    "\n",
    "import numpy\n",
    "import numpy as np\n",
    "from matplotlib import pyplot as plt\n",
    "from sklearn.model_selection import train_test_split\n",
    "import tensorflow as tf\n",
    "from sklearn.metrics import confusion_matrix\n",
    "import pandas as pd\n",
    "import seaborn as sn\n",
    "\n",
    "\n",
    "class_names = [\"Blues\", \"Classical\", \"Country\", \"Disco\", \"Hiphop\", \"Jazz\", \"Metal\", \"Pop\", \"Reggae\", \"Rock\"]\n",
    "print(tf.config.list_physical_devices('GPU'))\n",
    "\n",
    "def preprocess(dataset_path, num_mfcc=40, n_fft=2048, hop_length=512, num_segment=10):\n",
    "    all_mfcc = np.empty([1000 * num_segment, 40, 130], dtype=np.float32)\n",
    "    all_spec = np.empty([1000 * num_segment, 1025, 130], dtype=np.float32)\n",
    "    all_mel = np.empty([1000 * num_segment, 128, 130], dtype=np.float32)\n",
    "    all_chroma = np.empty([1000 * num_segment, 12, 130], dtype=np.float32)\n",
    "    labels = np.empty([1000 * num_segment])\n",
    "    sample_rate = 22050\n",
    "    sample_per_segment = int(sample_rate*30/num_segment)\n",
    "\n",
    "    count = 0\n",
    "    for label_idx, (dirpath, dirnames, filenames) in enumerate(os.walk(dataset_path)):\n",
    "        if dirpath == dataset_path:\n",
    "            continue\n",
    "        print(dirpath)\n",
    "        for f in sorted(filenames):\n",
    "            if not f.endswith('.wav'):\n",
    "                continue\n",
    "            file_path = str(str(dirpath).split('\\\\')[-1]) + '/' + str(f)\n",
    "            # print(\"Track Name\", file_path)\n",
    "\n",
    "            try:\n",
    "                y, sr = librosa.load(path=dirpath + \"\\\\\" + f, sr=sample_rate)\n",
    "            except:\n",
    "                print(\"Exception\")\n",
    "                continue\n",
    "            for n in range(num_segment):\n",
    "                segment = y[sample_per_segment*n: sample_per_segment*(n + 1)]\n",
    "                # Get MFCC\n",
    "                mfcc = librosa.feature.mfcc(y=segment,\n",
    "                                            sr=sample_rate, n_mfcc=num_mfcc, n_fft=n_fft,\n",
    "                                            hop_length=hop_length, dtype=np.float32)\n",
    "\n",
    "                # Avoid smaller or corrupt segments\n",
    "                if mfcc.shape[1] == math.ceil(sample_per_segment / hop_length):\n",
    "                    # print('Getting MFCC')\n",
    "                    all_mfcc[count] = mfcc\n",
    "                    labels[count] = label_idx - 1\n",
    "                    # data[\"track_id\"].append(f.split(\".\")[0])\n",
    "\n",
    "                    # Get spectrogram\n",
    "                    # print('Getting Spectrogram')\n",
    "                    spec = librosa.stft(y=segment)\n",
    "                    spec_db = librosa.amplitude_to_db(abs(spec))\n",
    "                    all_spec[count] =spec_db\n",
    "\n",
    "                    # Get mel-spectrogram\n",
    "                    # print('Getting Mel-Spectrogram')\n",
    "                    mel = librosa.feature.melspectrogram(y=segment, dtype=np.float32)\n",
    "                    mel_db = librosa.power_to_db(mel)\n",
    "                    all_mel[count] = mel_db\n",
    "\n",
    "                    # Get chroma-features\n",
    "                    # print('Getting Chroma')\n",
    "                    all_chroma[count] = librosa.feature.chroma_stft(y=segment, dtype=np.float32)\n",
    "                    count += 1\n",
    "\n",
    "    # all_mfcc = all_mfcc.astype(np.float32)\n",
    "    # all_spec = all_spec.astype(np.float32)\n",
    "    # all_mel = all_mel.astype(np.float32)\n",
    "    # all_chroma = all_chroma.astype(np.float32)\n",
    "    print(count)\n",
    "    all_mfcc = np.delete(all_mfcc, np.s_[count:], axis=0)\n",
    "    all_spec = np.delete(all_spec, np.s_[count:], axis=0)\n",
    "    all_mel = np.delete(all_mel, np.s_[count:], axis=0)\n",
    "    all_chroma = np.delete(all_chroma, np.s_[count:], axis=0)\n",
    "    labels = np.delete(labels, np.s_[count:])\n",
    "\n",
    "    return all_mfcc, all_spec, all_mel, all_chroma, labels"
   ]
  },
  {
   "cell_type": "code",
   "execution_count": 2,
   "outputs": [
    {
     "name": "stdout",
     "output_type": "stream",
     "text": [
      "C:\\Users\\dpetr\\Desktop\\sxoli\\music genre classification\\MFCC-CNN\\Data\\genres_original\\blues\n",
      "C:\\Users\\dpetr\\Desktop\\sxoli\\music genre classification\\MFCC-CNN\\Data\\genres_original\\classical\n",
      "C:\\Users\\dpetr\\Desktop\\sxoli\\music genre classification\\MFCC-CNN\\Data\\genres_original\\country\n",
      "C:\\Users\\dpetr\\Desktop\\sxoli\\music genre classification\\MFCC-CNN\\Data\\genres_original\\disco\n",
      "C:\\Users\\dpetr\\Desktop\\sxoli\\music genre classification\\MFCC-CNN\\Data\\genres_original\\hiphop\n",
      "C:\\Users\\dpetr\\Desktop\\sxoli\\music genre classification\\MFCC-CNN\\Data\\genres_original\\jazz\n"
     ]
    },
    {
     "name": "stderr",
     "output_type": "stream",
     "text": [
      "C:\\Users\\dpetr\\miniconda3\\envs\\tf\\lib\\site-packages\\librosa\\util\\decorators.py:88: UserWarning: PySoundFile failed. Trying audioread instead.\n",
      "  return f(*args, **kwargs)\n"
     ]
    },
    {
     "name": "stdout",
     "output_type": "stream",
     "text": [
      "Exception\n",
      "C:\\Users\\dpetr\\Desktop\\sxoli\\music genre classification\\MFCC-CNN\\Data\\genres_original\\metal\n",
      "C:\\Users\\dpetr\\Desktop\\sxoli\\music genre classification\\MFCC-CNN\\Data\\genres_original\\pop\n",
      "C:\\Users\\dpetr\\Desktop\\sxoli\\music genre classification\\MFCC-CNN\\Data\\genres_original\\reggae\n",
      "C:\\Users\\dpetr\\Desktop\\sxoli\\music genre classification\\MFCC-CNN\\Data\\genres_original\\rock\n",
      "9986\n"
     ]
    },
    {
     "ename": "KeyboardInterrupt",
     "evalue": "",
     "output_type": "error",
     "traceback": [
      "\u001B[1;31m---------------------------------------------------------------------------\u001B[0m",
      "\u001B[1;31mKeyboardInterrupt\u001B[0m                         Traceback (most recent call last)",
      "Input \u001B[1;32mIn [2]\u001B[0m, in \u001B[0;36m<cell line: 28>\u001B[1;34m()\u001B[0m\n\u001B[0;32m     23\u001B[0m     chroma_test \u001B[38;5;241m=\u001B[39m chroma_test[\u001B[38;5;241m.\u001B[39m\u001B[38;5;241m.\u001B[39m\u001B[38;5;241m.\u001B[39m, np\u001B[38;5;241m.\u001B[39mnewaxis]\n\u001B[0;32m     25\u001B[0m     \u001B[38;5;28;01mreturn\u001B[39;00m mfcc_train, mfcc_validation, mfcc_test, spec_train, spec_validation, spec_test, mel_spec_train, mel_spec_validation, mel_spec_test, chroma_train, chroma_validation, chroma_test, y_train, y_validation, y_test\n\u001B[1;32m---> 28\u001B[0m mfcc_train, mfcc_validation, mfcc_test, spec_train, spec_validation, spec_test, mel_spec_train, mel_spec_validation, mel_spec_test, chroma_train, chroma_validation, chroma_test, y_train, y_validation, y_test \u001B[38;5;241m=\u001B[39m \u001B[43mprepare_datasets\u001B[49m\u001B[43m(\u001B[49m\u001B[43mtest_size\u001B[49m\u001B[38;5;241;43m=\u001B[39;49m\u001B[38;5;241;43m0.2\u001B[39;49m\u001B[43m,\u001B[49m\u001B[43m \u001B[49m\u001B[43mvalidation_size\u001B[49m\u001B[38;5;241;43m=\u001B[39;49m\u001B[38;5;241;43m0.25\u001B[39;49m\u001B[43m)\u001B[49m\n\u001B[0;32m     30\u001B[0m \u001B[38;5;28mprint\u001B[39m(\u001B[38;5;124m'\u001B[39m\u001B[38;5;124mMFCC\u001B[39m\u001B[38;5;124m'\u001B[39m, mfcc_train\u001B[38;5;241m.\u001B[39mshape, mfcc_validation\u001B[38;5;241m.\u001B[39mshape, mfcc_test\u001B[38;5;241m.\u001B[39mshape)\n\u001B[0;32m     31\u001B[0m \u001B[38;5;28mprint\u001B[39m(\u001B[38;5;124m'\u001B[39m\u001B[38;5;124mSpectrogram\u001B[39m\u001B[38;5;124m'\u001B[39m, spec_train\u001B[38;5;241m.\u001B[39mshape, spec_validation\u001B[38;5;241m.\u001B[39mshape, spec_test\u001B[38;5;241m.\u001B[39mshape)\n",
      "Input \u001B[1;32mIn [2]\u001B[0m, in \u001B[0;36mprepare_datasets\u001B[1;34m(test_size, validation_size)\u001B[0m\n\u001B[0;32m      3\u001B[0m mfcc, spec, mel_spec, chroma, y \u001B[38;5;241m=\u001B[39m preprocess(\u001B[38;5;124mr\u001B[39m\u001B[38;5;124m\"\u001B[39m\u001B[38;5;124mC:\u001B[39m\u001B[38;5;124m\\\u001B[39m\u001B[38;5;124mUsers\u001B[39m\u001B[38;5;124m\\\u001B[39m\u001B[38;5;124mdpetr\u001B[39m\u001B[38;5;124m\\\u001B[39m\u001B[38;5;124mDesktop\u001B[39m\u001B[38;5;124m\\\u001B[39m\u001B[38;5;124msxoli\u001B[39m\u001B[38;5;124m\\\u001B[39m\u001B[38;5;124mmusic genre classification\u001B[39m\u001B[38;5;124m\\\u001B[39m\u001B[38;5;124mMFCC-CNN\u001B[39m\u001B[38;5;124m\\\u001B[39m\u001B[38;5;124mData\u001B[39m\u001B[38;5;124m\\\u001B[39m\u001B[38;5;124mgenres_original\u001B[39m\u001B[38;5;124m\"\u001B[39m)\n\u001B[0;32m      5\u001B[0m mfcc_train, mfcc_test, spec_train, spec_test, mel_spec_train, mel_spec_test, chroma_train, chroma_test, y_train, y_test \u001B[38;5;241m=\u001B[39m train_test_split(mfcc, spec, mel_spec, chroma, y, test_size\u001B[38;5;241m=\u001B[39mtest_size)\n\u001B[1;32m----> 7\u001B[0m mfcc_train, mfcc_validation, spec_train, spec_validation, mel_spec_train, mel_spec_validation, chroma_train, chroma_validation, y_train, y_validation \u001B[38;5;241m=\u001B[39m \u001B[43mtrain_test_split\u001B[49m\u001B[43m(\u001B[49m\u001B[43mmfcc_train\u001B[49m\u001B[43m,\u001B[49m\u001B[43m \u001B[49m\u001B[43mspec_train\u001B[49m\u001B[43m,\u001B[49m\u001B[43m \u001B[49m\u001B[43mmel_spec_train\u001B[49m\u001B[43m,\u001B[49m\u001B[43m \u001B[49m\u001B[43mchroma_train\u001B[49m\u001B[43m,\u001B[49m\u001B[43m \u001B[49m\u001B[43my_train\u001B[49m\u001B[43m,\u001B[49m\u001B[43m \u001B[49m\u001B[43mtest_size\u001B[49m\u001B[38;5;241;43m=\u001B[39;49m\u001B[43mvalidation_size\u001B[49m\u001B[43m)\u001B[49m\n\u001B[0;32m      9\u001B[0m mfcc_train \u001B[38;5;241m=\u001B[39m mfcc_train[\u001B[38;5;241m.\u001B[39m\u001B[38;5;241m.\u001B[39m\u001B[38;5;241m.\u001B[39m, np\u001B[38;5;241m.\u001B[39mnewaxis]\n\u001B[0;32m     10\u001B[0m mfcc_validation \u001B[38;5;241m=\u001B[39m mfcc_validation[\u001B[38;5;241m.\u001B[39m\u001B[38;5;241m.\u001B[39m\u001B[38;5;241m.\u001B[39m, np\u001B[38;5;241m.\u001B[39mnewaxis]\n",
      "File \u001B[1;32m~\\miniconda3\\envs\\tf\\lib\\site-packages\\sklearn\\model_selection\\_split.py:2471\u001B[0m, in \u001B[0;36mtrain_test_split\u001B[1;34m(test_size, train_size, random_state, shuffle, stratify, *arrays)\u001B[0m\n\u001B[0;32m   2467\u001B[0m     cv \u001B[38;5;241m=\u001B[39m CVClass(test_size\u001B[38;5;241m=\u001B[39mn_test, train_size\u001B[38;5;241m=\u001B[39mn_train, random_state\u001B[38;5;241m=\u001B[39mrandom_state)\n\u001B[0;32m   2469\u001B[0m     train, test \u001B[38;5;241m=\u001B[39m \u001B[38;5;28mnext\u001B[39m(cv\u001B[38;5;241m.\u001B[39msplit(X\u001B[38;5;241m=\u001B[39marrays[\u001B[38;5;241m0\u001B[39m], y\u001B[38;5;241m=\u001B[39mstratify))\n\u001B[1;32m-> 2471\u001B[0m \u001B[38;5;28;01mreturn\u001B[39;00m \u001B[38;5;28;43mlist\u001B[39;49m\u001B[43m(\u001B[49m\n\u001B[0;32m   2472\u001B[0m \u001B[43m    \u001B[49m\u001B[43mchain\u001B[49m\u001B[38;5;241;43m.\u001B[39;49m\u001B[43mfrom_iterable\u001B[49m\u001B[43m(\u001B[49m\n\u001B[0;32m   2473\u001B[0m \u001B[43m        \u001B[49m\u001B[43m(\u001B[49m\u001B[43m_safe_indexing\u001B[49m\u001B[43m(\u001B[49m\u001B[43ma\u001B[49m\u001B[43m,\u001B[49m\u001B[43m \u001B[49m\u001B[43mtrain\u001B[49m\u001B[43m)\u001B[49m\u001B[43m,\u001B[49m\u001B[43m \u001B[49m\u001B[43m_safe_indexing\u001B[49m\u001B[43m(\u001B[49m\u001B[43ma\u001B[49m\u001B[43m,\u001B[49m\u001B[43m \u001B[49m\u001B[43mtest\u001B[49m\u001B[43m)\u001B[49m\u001B[43m)\u001B[49m\u001B[43m \u001B[49m\u001B[38;5;28;43;01mfor\u001B[39;49;00m\u001B[43m \u001B[49m\u001B[43ma\u001B[49m\u001B[43m \u001B[49m\u001B[38;5;129;43;01min\u001B[39;49;00m\u001B[43m \u001B[49m\u001B[43marrays\u001B[49m\n\u001B[0;32m   2474\u001B[0m \u001B[43m    \u001B[49m\u001B[43m)\u001B[49m\n\u001B[0;32m   2475\u001B[0m \u001B[43m\u001B[49m\u001B[43m)\u001B[49m\n",
      "File \u001B[1;32m~\\miniconda3\\envs\\tf\\lib\\site-packages\\sklearn\\model_selection\\_split.py:2473\u001B[0m, in \u001B[0;36m<genexpr>\u001B[1;34m(.0)\u001B[0m\n\u001B[0;32m   2467\u001B[0m     cv \u001B[38;5;241m=\u001B[39m CVClass(test_size\u001B[38;5;241m=\u001B[39mn_test, train_size\u001B[38;5;241m=\u001B[39mn_train, random_state\u001B[38;5;241m=\u001B[39mrandom_state)\n\u001B[0;32m   2469\u001B[0m     train, test \u001B[38;5;241m=\u001B[39m \u001B[38;5;28mnext\u001B[39m(cv\u001B[38;5;241m.\u001B[39msplit(X\u001B[38;5;241m=\u001B[39marrays[\u001B[38;5;241m0\u001B[39m], y\u001B[38;5;241m=\u001B[39mstratify))\n\u001B[0;32m   2471\u001B[0m \u001B[38;5;28;01mreturn\u001B[39;00m \u001B[38;5;28mlist\u001B[39m(\n\u001B[0;32m   2472\u001B[0m     chain\u001B[38;5;241m.\u001B[39mfrom_iterable(\n\u001B[1;32m-> 2473\u001B[0m         (\u001B[43m_safe_indexing\u001B[49m\u001B[43m(\u001B[49m\u001B[43ma\u001B[49m\u001B[43m,\u001B[49m\u001B[43m \u001B[49m\u001B[43mtrain\u001B[49m\u001B[43m)\u001B[49m, _safe_indexing(a, test)) \u001B[38;5;28;01mfor\u001B[39;00m a \u001B[38;5;129;01min\u001B[39;00m arrays\n\u001B[0;32m   2474\u001B[0m     )\n\u001B[0;32m   2475\u001B[0m )\n",
      "File \u001B[1;32m~\\miniconda3\\envs\\tf\\lib\\site-packages\\sklearn\\utils\\__init__.py:361\u001B[0m, in \u001B[0;36m_safe_indexing\u001B[1;34m(X, indices, axis)\u001B[0m\n\u001B[0;32m    359\u001B[0m     \u001B[38;5;28;01mreturn\u001B[39;00m _pandas_indexing(X, indices, indices_dtype, axis\u001B[38;5;241m=\u001B[39maxis)\n\u001B[0;32m    360\u001B[0m \u001B[38;5;28;01melif\u001B[39;00m \u001B[38;5;28mhasattr\u001B[39m(X, \u001B[38;5;124m\"\u001B[39m\u001B[38;5;124mshape\u001B[39m\u001B[38;5;124m\"\u001B[39m):\n\u001B[1;32m--> 361\u001B[0m     \u001B[38;5;28;01mreturn\u001B[39;00m \u001B[43m_array_indexing\u001B[49m\u001B[43m(\u001B[49m\u001B[43mX\u001B[49m\u001B[43m,\u001B[49m\u001B[43m \u001B[49m\u001B[43mindices\u001B[49m\u001B[43m,\u001B[49m\u001B[43m \u001B[49m\u001B[43mindices_dtype\u001B[49m\u001B[43m,\u001B[49m\u001B[43m \u001B[49m\u001B[43maxis\u001B[49m\u001B[38;5;241;43m=\u001B[39;49m\u001B[43maxis\u001B[49m\u001B[43m)\u001B[49m\n\u001B[0;32m    362\u001B[0m \u001B[38;5;28;01melse\u001B[39;00m:\n\u001B[0;32m    363\u001B[0m     \u001B[38;5;28;01mreturn\u001B[39;00m _list_indexing(X, indices, indices_dtype)\n",
      "File \u001B[1;32m~\\miniconda3\\envs\\tf\\lib\\site-packages\\sklearn\\utils\\__init__.py:185\u001B[0m, in \u001B[0;36m_array_indexing\u001B[1;34m(array, key, key_dtype, axis)\u001B[0m\n\u001B[0;32m    183\u001B[0m \u001B[38;5;28;01mif\u001B[39;00m \u001B[38;5;28misinstance\u001B[39m(key, \u001B[38;5;28mtuple\u001B[39m):\n\u001B[0;32m    184\u001B[0m     key \u001B[38;5;241m=\u001B[39m \u001B[38;5;28mlist\u001B[39m(key)\n\u001B[1;32m--> 185\u001B[0m \u001B[38;5;28;01mreturn\u001B[39;00m \u001B[43marray\u001B[49m\u001B[43m[\u001B[49m\u001B[43mkey\u001B[49m\u001B[43m]\u001B[49m \u001B[38;5;28;01mif\u001B[39;00m axis \u001B[38;5;241m==\u001B[39m \u001B[38;5;241m0\u001B[39m \u001B[38;5;28;01melse\u001B[39;00m array[:, key]\n",
      "\u001B[1;31mKeyboardInterrupt\u001B[0m: "
     ]
    }
   ],
   "source": [
    "def prepare_datasets(test_size, validation_size):\n",
    "\n",
    "    mfcc, spec, mel_spec, chroma, y = preprocess(r\"C:\\Users\\dpetr\\Desktop\\sxoli\\music genre classification\\MFCC-CNN\\Data\\genres_original\")\n",
    "\n",
    "    mfcc_train, mfcc_test, spec_train, spec_test, mel_spec_train, mel_spec_test, chroma_train, chroma_test, y_train, y_test = train_test_split(mfcc, spec, mel_spec, chroma, y, test_size=test_size)\n",
    "\n",
    "    mfcc_train, mfcc_validation, spec_train, spec_validation, mel_spec_train, mel_spec_validation, chroma_train, chroma_validation, y_train, y_validation = train_test_split(mfcc_train, spec_train, mel_spec_train, chroma_train, y_train, test_size=validation_size)\n",
    "\n",
    "    mfcc_train = mfcc_train[..., np.newaxis]\n",
    "    mfcc_validation = mfcc_validation[..., np.newaxis]\n",
    "    mfcc_test = mfcc_test[..., np.newaxis]\n",
    "\n",
    "    spec_train = spec_train[..., np.newaxis]\n",
    "    spec_validation = spec_validation[..., np.newaxis]\n",
    "    spec_test = spec_test[..., np.newaxis]\n",
    "\n",
    "    mel_spec_train = mel_spec_train[..., np.newaxis]\n",
    "    mel_spec_validation = mel_spec_validation[..., np.newaxis]\n",
    "    mel_spec_test = mel_spec_test[..., np.newaxis]\n",
    "\n",
    "    chroma_train = chroma_train[..., np.newaxis]\n",
    "    chroma_validation = chroma_validation[..., np.newaxis]\n",
    "    chroma_test = chroma_test[..., np.newaxis]\n",
    "\n",
    "    return mfcc_train, mfcc_validation, mfcc_test, spec_train, spec_validation, spec_test, mel_spec_train, mel_spec_validation, mel_spec_test, chroma_train, chroma_validation, chroma_test, y_train, y_validation, y_test\n",
    "\n",
    "\n",
    "mfcc_train, mfcc_validation, mfcc_test, spec_train, spec_validation, spec_test, mel_spec_train, mel_spec_validation, mel_spec_test, chroma_train, chroma_validation, chroma_test, y_train, y_validation, y_test = prepare_datasets(test_size=0.2, validation_size=0.25)\n",
    "\n",
    "print('MFCC', mfcc_train.shape, mfcc_validation.shape, mfcc_test.shape)\n",
    "print('Spectrogram', spec_train.shape, spec_validation.shape, spec_test.shape)\n",
    "print('Mel-Spectrogram', mel_spec_train.shape, mel_spec_validation.shape, mel_spec_test.shape)\n",
    "print('Chroma', chroma_train.shape, chroma_validation.shape, chroma_test.shape)\n",
    "print('Labels', y_train.shape, y_validation.shape, y_test.shape)"
   ],
   "metadata": {
    "collapsed": false,
    "pycharm": {
     "name": "#%%\n"
    }
   }
  },
  {
   "cell_type": "code",
   "execution_count": null,
   "outputs": [],
   "source": [],
   "metadata": {
    "collapsed": false,
    "pycharm": {
     "name": "#%%\n"
    }
   }
  }
 ],
 "metadata": {
  "kernelspec": {
   "display_name": "Python 3",
   "language": "python",
   "name": "python3"
  },
  "language_info": {
   "codemirror_mode": {
    "name": "ipython",
    "version": 2
   },
   "file_extension": ".py",
   "mimetype": "text/x-python",
   "name": "python",
   "nbconvert_exporter": "python",
   "pygments_lexer": "ipython2",
   "version": "2.7.6"
  }
 },
 "nbformat": 4,
 "nbformat_minor": 0
}